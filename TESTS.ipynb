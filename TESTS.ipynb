{
 "cells": [
  {
   "cell_type": "code",
   "execution_count": 2,
   "metadata": {},
   "outputs": [],
   "source": [
    "from Lib.Senders.Injector import DataBase"
   ]
  },
  {
   "cell_type": "code",
   "execution_count": 3,
   "metadata": {},
   "outputs": [],
   "source": [
    "ip_serveur=\"192.168.43.166\""
   ]
  },
  {
   "cell_type": "code",
   "execution_count": 6,
   "metadata": {},
   "outputs": [],
   "source": [
    "bd = DataBase(ip_serveur)"
   ]
  },
  {
   "cell_type": "code",
   "execution_count": 7,
   "metadata": {},
   "outputs": [
    {
     "name": "stdout",
     "output_type": "stream",
     "text": [
      "mqtt\n",
      "template1\n",
      "template0\n",
      "TSM\n",
      "enedis_v2\n",
      "enedis_camilo\n",
      "postgres\n",
      "enedis_camilo_v2\n",
      "enedis_cristiona_v2\n"
     ]
    }
   ],
   "source": [
    "bd.liste() # Renvoi la liste des bases présentes sur le serveur"
   ]
  },
  {
   "cell_type": "code",
   "execution_count": 8,
   "metadata": {},
   "outputs": [],
   "source": [
    "nomTemplate = \"MonTemplate\"\n",
    "bd.create_template(nomTemplate)"
   ]
  },
  {
   "cell_type": "code",
   "execution_count": 9,
   "metadata": {},
   "outputs": [
    {
     "name": "stdout",
     "output_type": "stream",
     "text": [
      "Database crée\n"
     ]
    }
   ],
   "source": [
    "nomBase = \"MaBase\"\n",
    "bd.create(nomBase, nomTemplate)"
   ]
  },
  {
   "cell_type": "code",
   "execution_count": 10,
   "metadata": {},
   "outputs": [
    {
     "name": "stdout",
     "output_type": "stream",
     "text": [
      "mqtt\n",
      "template1\n",
      "template0\n",
      "TSM\n",
      "enedis_v2\n",
      "enedis_camilo\n",
      "postgres\n",
      "enedis_camilo_v2\n",
      "enedis_cristiona_v2\n",
      "montemplate\n",
      "mabase\n"
     ]
    }
   ],
   "source": [
    "bd.liste() # Renvoi la liste des bases présentes sur le serveur"
   ]
  },
  {
   "cell_type": "code",
   "execution_count": 13,
   "metadata": {},
   "outputs": [
    {
     "name": "stderr",
     "output_type": "stream",
     "text": [
      "INFO:root:Connection Payload: {'type': 'consumption_load_curve', 'usage_point_id': '23191895667868', 'start': '2022-06-02', 'end': '2022-06-03'}\n",
      "INFO:root:Connection Headers: {'Authorization': 'FR7Gj9yIBKRevPb2UeNN9hmEaxP6IyRWl69ZtVNFqI6ZaM3C7qXcPb', 'Content-Type': 'application/json'}\n",
      "INFO:root:Querying Enedis\n",
      "INFO:root:Data queried from Enedis\n",
      "INFO:root:Retrieved data has the following shape : (144, 5)\n"
     ]
    }
   ],
   "source": [
    "# ADD ADDITIONAL LIB -----\n",
    "from Lib.Getters.ENEDIS.get_enedis import ENEDIS\n",
    "from Lib.Senders.Injector import Injection\n",
    "\n",
    "CONFIG_ = (\n",
    "    \"config.json\"\n",
    ")\n",
    "\n",
    "e = ENEDIS(config_file=CONFIG_)\n",
    "# # * Get data ---\n",
    "data = e.give_measure_info()\n",
    "meta = e.give_meta_info()\n",
    "\n",
    "assert data is not None\n",
    "assert meta is not None"
   ]
  },
  {
   "cell_type": "code",
   "execution_count": 14,
   "metadata": {},
   "outputs": [
    {
     "name": "stderr",
     "output_type": "stream",
     "text": [
      "INFO:root:Verifying Place and Sensor existance\n"
     ]
    }
   ],
   "source": [
    "inject = Injection(dbname=\"MaBase\", meta=meta, df=data, ip=ip_serveur)"
   ]
  },
  {
   "cell_type": "code",
   "execution_count": 15,
   "metadata": {},
   "outputs": [
    {
     "name": "stderr",
     "output_type": "stream",
     "text": [
      "INFO:root:Place created\n",
      "INFO:root:Sensor created\n"
     ]
    }
   ],
   "source": [
    "inject.injection()"
   ]
  },
  {
   "cell_type": "code",
   "execution_count": 17,
   "metadata": {},
   "outputs": [
    {
     "name": "stdout",
     "output_type": "stream",
     "text": [
      "(datetime.datetime(2022, 6, 2, 0, 10), 168.0, 'W', 1, 1)\n",
      "(datetime.datetime(2022, 6, 2, 0, 20), 132.0, 'W', 1, 1)\n",
      "(datetime.datetime(2022, 6, 2, 0, 30), 126.0, 'W', 1, 1)\n",
      "(datetime.datetime(2022, 6, 2, 0, 40), 132.0, 'W', 1, 1)\n",
      "(datetime.datetime(2022, 6, 2, 0, 50), 132.0, 'W', 1, 1)\n",
      "(datetime.datetime(2022, 6, 2, 1, 0), 144.0, 'W', 1, 1)\n",
      "(datetime.datetime(2022, 6, 2, 1, 10), 192.0, 'W', 1, 1)\n",
      "(datetime.datetime(2022, 6, 2, 1, 20), 180.0, 'W', 1, 1)\n",
      "(datetime.datetime(2022, 6, 2, 1, 30), 174.0, 'W', 1, 1)\n",
      "(datetime.datetime(2022, 6, 2, 1, 40), 126.0, 'W', 1, 1)\n",
      "(datetime.datetime(2022, 6, 2, 1, 50), 108.0, 'W', 1, 1)\n",
      "(datetime.datetime(2022, 6, 2, 2, 0), 96.0, 'W', 1, 1)\n",
      "(datetime.datetime(2022, 6, 2, 2, 10), 96.0, 'W', 1, 1)\n",
      "(datetime.datetime(2022, 6, 2, 2, 20), 90.0, 'W', 1, 1)\n",
      "(datetime.datetime(2022, 6, 2, 2, 30), 108.0, 'W', 1, 1)\n",
      "(datetime.datetime(2022, 6, 2, 2, 40), 162.0, 'W', 1, 1)\n",
      "(datetime.datetime(2022, 6, 2, 2, 50), 156.0, 'W', 1, 1)\n",
      "(datetime.datetime(2022, 6, 2, 3, 0), 150.0, 'W', 1, 1)\n",
      "(datetime.datetime(2022, 6, 2, 3, 10), 138.0, 'W', 1, 1)\n",
      "(datetime.datetime(2022, 6, 2, 3, 20), 90.0, 'W', 1, 1)\n",
      "(datetime.datetime(2022, 6, 2, 3, 30), 96.0, 'W', 1, 1)\n",
      "(datetime.datetime(2022, 6, 2, 3, 40), 90.0, 'W', 1, 1)\n",
      "(datetime.datetime(2022, 6, 2, 3, 50), 96.0, 'W', 1, 1)\n",
      "(datetime.datetime(2022, 6, 2, 4, 0), 96.0, 'W', 1, 1)\n",
      "(datetime.datetime(2022, 6, 2, 4, 10), 150.0, 'W', 1, 1)\n",
      "(datetime.datetime(2022, 6, 2, 4, 20), 156.0, 'W', 1, 1)\n",
      "(datetime.datetime(2022, 6, 2, 4, 30), 156.0, 'W', 1, 1)\n",
      "(datetime.datetime(2022, 6, 2, 4, 40), 132.0, 'W', 1, 1)\n",
      "(datetime.datetime(2022, 6, 2, 4, 50), 90.0, 'W', 1, 1)\n",
      "(datetime.datetime(2022, 6, 2, 5, 0), 96.0, 'W', 1, 1)\n",
      "(datetime.datetime(2022, 6, 2, 5, 10), 90.0, 'W', 1, 1)\n",
      "(datetime.datetime(2022, 6, 2, 5, 20), 96.0, 'W', 1, 1)\n",
      "(datetime.datetime(2022, 6, 2, 5, 30), 96.0, 'W', 1, 1)\n",
      "(datetime.datetime(2022, 6, 2, 5, 40), 156.0, 'W', 1, 1)\n",
      "(datetime.datetime(2022, 6, 2, 5, 50), 150.0, 'W', 1, 1)\n",
      "(datetime.datetime(2022, 6, 2, 6, 0), 150.0, 'W', 1, 1)\n",
      "(datetime.datetime(2022, 6, 2, 6, 10), 132.0, 'W', 1, 1)\n",
      "(datetime.datetime(2022, 6, 2, 6, 20), 90.0, 'W', 1, 1)\n",
      "(datetime.datetime(2022, 6, 2, 6, 30), 84.0, 'W', 1, 1)\n",
      "(datetime.datetime(2022, 6, 2, 6, 40), 90.0, 'W', 1, 1)\n",
      "(datetime.datetime(2022, 6, 2, 6, 50), 96.0, 'W', 1, 1)\n",
      "(datetime.datetime(2022, 6, 2, 7, 0), 84.0, 'W', 1, 1)\n",
      "(datetime.datetime(2022, 6, 2, 7, 10), 126.0, 'W', 1, 1)\n",
      "(datetime.datetime(2022, 6, 2, 7, 20), 144.0, 'W', 1, 1)\n",
      "(datetime.datetime(2022, 6, 2, 7, 30), 150.0, 'W', 1, 1)\n",
      "(datetime.datetime(2022, 6, 2, 7, 40), 144.0, 'W', 1, 1)\n",
      "(datetime.datetime(2022, 6, 2, 7, 50), 120.0, 'W', 1, 1)\n",
      "(datetime.datetime(2022, 6, 2, 8, 0), 1440.0, 'W', 1, 1)\n",
      "(datetime.datetime(2022, 6, 2, 8, 10), 2676.0, 'W', 1, 1)\n",
      "(datetime.datetime(2022, 6, 2, 8, 20), 2670.0, 'W', 1, 1)\n",
      "(datetime.datetime(2022, 6, 2, 8, 30), 2646.0, 'W', 1, 1)\n",
      "(datetime.datetime(2022, 6, 2, 8, 40), 2490.0, 'W', 1, 1)\n",
      "(datetime.datetime(2022, 6, 2, 8, 50), 234.0, 'W', 1, 1)\n",
      "(datetime.datetime(2022, 6, 2, 9, 0), 264.0, 'W', 1, 1)\n",
      "(datetime.datetime(2022, 6, 2, 9, 10), 108.0, 'W', 1, 1)\n",
      "(datetime.datetime(2022, 6, 2, 9, 20), 108.0, 'W', 1, 1)\n",
      "(datetime.datetime(2022, 6, 2, 9, 30), 48.0, 'W', 1, 1)\n",
      "(datetime.datetime(2022, 6, 2, 9, 40), 42.0, 'W', 1, 1)\n",
      "(datetime.datetime(2022, 6, 2, 9, 50), 48.0, 'W', 1, 1)\n",
      "(datetime.datetime(2022, 6, 2, 10, 0), 42.0, 'W', 1, 1)\n",
      "(datetime.datetime(2022, 6, 2, 10, 10), 48.0, 'W', 1, 1)\n",
      "(datetime.datetime(2022, 6, 2, 10, 20), 114.0, 'W', 1, 1)\n",
      "(datetime.datetime(2022, 6, 2, 10, 30), 108.0, 'W', 1, 1)\n",
      "(datetime.datetime(2022, 6, 2, 10, 40), 108.0, 'W', 1, 1)\n",
      "(datetime.datetime(2022, 6, 2, 10, 50), 108.0, 'W', 1, 1)\n",
      "(datetime.datetime(2022, 6, 2, 11, 0), 48.0, 'W', 1, 1)\n",
      "(datetime.datetime(2022, 6, 2, 11, 10), 48.0, 'W', 1, 1)\n",
      "(datetime.datetime(2022, 6, 2, 11, 20), 42.0, 'W', 1, 1)\n",
      "(datetime.datetime(2022, 6, 2, 11, 30), 48.0, 'W', 1, 1)\n",
      "(datetime.datetime(2022, 6, 2, 11, 40), 48.0, 'W', 1, 1)\n",
      "(datetime.datetime(2022, 6, 2, 11, 50), 90.0, 'W', 1, 1)\n",
      "(datetime.datetime(2022, 6, 2, 12, 0), 2430.0, 'W', 1, 1)\n",
      "(datetime.datetime(2022, 6, 2, 12, 10), 2646.0, 'W', 1, 1)\n",
      "(datetime.datetime(2022, 6, 2, 12, 20), 2034.0, 'W', 1, 1)\n",
      "(datetime.datetime(2022, 6, 2, 12, 30), 120.0, 'W', 1, 1)\n",
      "(datetime.datetime(2022, 6, 2, 12, 40), 66.0, 'W', 1, 1)\n",
      "(datetime.datetime(2022, 6, 2, 12, 50), 72.0, 'W', 1, 1)\n",
      "(datetime.datetime(2022, 6, 2, 13, 0), 78.0, 'W', 1, 1)\n",
      "(datetime.datetime(2022, 6, 2, 13, 10), 72.0, 'W', 1, 1)\n",
      "(datetime.datetime(2022, 6, 2, 13, 20), 60.0, 'W', 1, 1)\n",
      "(datetime.datetime(2022, 6, 2, 13, 30), 114.0, 'W', 1, 1)\n",
      "(datetime.datetime(2022, 6, 2, 13, 40), 108.0, 'W', 1, 1)\n",
      "(datetime.datetime(2022, 6, 2, 13, 50), 108.0, 'W', 1, 1)\n",
      "(datetime.datetime(2022, 6, 2, 14, 0), 108.0, 'W', 1, 1)\n",
      "(datetime.datetime(2022, 6, 2, 14, 10), 54.0, 'W', 1, 1)\n",
      "(datetime.datetime(2022, 6, 2, 14, 20), 42.0, 'W', 1, 1)\n",
      "(datetime.datetime(2022, 6, 2, 14, 30), 48.0, 'W', 1, 1)\n",
      "(datetime.datetime(2022, 6, 2, 14, 40), 48.0, 'W', 1, 1)\n",
      "(datetime.datetime(2022, 6, 2, 14, 50), 42.0, 'W', 1, 1)\n",
      "(datetime.datetime(2022, 6, 2, 15, 0), 432.0, 'W', 1, 1)\n",
      "(datetime.datetime(2022, 6, 2, 15, 10), 114.0, 'W', 1, 1)\n",
      "(datetime.datetime(2022, 6, 2, 15, 20), 126.0, 'W', 1, 1)\n",
      "(datetime.datetime(2022, 6, 2, 15, 30), 120.0, 'W', 1, 1)\n",
      "(datetime.datetime(2022, 6, 2, 15, 40), 114.0, 'W', 1, 1)\n",
      "(datetime.datetime(2022, 6, 2, 15, 50), 168.0, 'W', 1, 1)\n",
      "(datetime.datetime(2022, 6, 2, 16, 0), 180.0, 'W', 1, 1)\n",
      "(datetime.datetime(2022, 6, 2, 16, 10), 90.0, 'W', 1, 1)\n",
      "(datetime.datetime(2022, 6, 2, 16, 20), 174.0, 'W', 1, 1)\n",
      "(datetime.datetime(2022, 6, 2, 16, 30), 210.0, 'W', 1, 1)\n",
      "(datetime.datetime(2022, 6, 2, 16, 40), 246.0, 'W', 1, 1)\n",
      "(datetime.datetime(2022, 6, 2, 16, 50), 222.0, 'W', 1, 1)\n",
      "(datetime.datetime(2022, 6, 2, 17, 0), 222.0, 'W', 1, 1)\n",
      "(datetime.datetime(2022, 6, 2, 17, 10), 204.0, 'W', 1, 1)\n",
      "(datetime.datetime(2022, 6, 2, 17, 20), 150.0, 'W', 1, 1)\n",
      "(datetime.datetime(2022, 6, 2, 17, 30), 144.0, 'W', 1, 1)\n",
      "(datetime.datetime(2022, 6, 2, 17, 40), 144.0, 'W', 1, 1)\n",
      "(datetime.datetime(2022, 6, 2, 17, 50), 138.0, 'W', 1, 1)\n",
      "(datetime.datetime(2022, 6, 2, 18, 0), 150.0, 'W', 1, 1)\n",
      "(datetime.datetime(2022, 6, 2, 18, 10), 210.0, 'W', 1, 1)\n",
      "(datetime.datetime(2022, 6, 2, 18, 20), 210.0, 'W', 1, 1)\n",
      "(datetime.datetime(2022, 6, 2, 18, 30), 198.0, 'W', 1, 1)\n",
      "(datetime.datetime(2022, 6, 2, 18, 40), 186.0, 'W', 1, 1)\n",
      "(datetime.datetime(2022, 6, 2, 18, 50), 96.0, 'W', 1, 1)\n",
      "(datetime.datetime(2022, 6, 2, 19, 0), 90.0, 'W', 1, 1)\n",
      "(datetime.datetime(2022, 6, 2, 19, 10), 90.0, 'W', 1, 1)\n",
      "(datetime.datetime(2022, 6, 2, 19, 20), 90.0, 'W', 1, 1)\n",
      "(datetime.datetime(2022, 6, 2, 19, 30), 84.0, 'W', 1, 1)\n",
      "(datetime.datetime(2022, 6, 2, 19, 40), 150.0, 'W', 1, 1)\n",
      "(datetime.datetime(2022, 6, 2, 19, 50), 156.0, 'W', 1, 1)\n",
      "(datetime.datetime(2022, 6, 2, 20, 0), 150.0, 'W', 1, 1)\n",
      "(datetime.datetime(2022, 6, 2, 20, 10), 150.0, 'W', 1, 1)\n",
      "(datetime.datetime(2022, 6, 2, 20, 20), 114.0, 'W', 1, 1)\n",
      "(datetime.datetime(2022, 6, 2, 20, 30), 90.0, 'W', 1, 1)\n",
      "(datetime.datetime(2022, 6, 2, 20, 40), 84.0, 'W', 1, 1)\n",
      "(datetime.datetime(2022, 6, 2, 20, 50), 90.0, 'W', 1, 1)\n",
      "(datetime.datetime(2022, 6, 2, 21, 0), 90.0, 'W', 1, 1)\n",
      "(datetime.datetime(2022, 6, 2, 21, 10), 120.0, 'W', 1, 1)\n",
      "(datetime.datetime(2022, 6, 2, 21, 20), 156.0, 'W', 1, 1)\n",
      "(datetime.datetime(2022, 6, 2, 21, 30), 150.0, 'W', 1, 1)\n",
      "(datetime.datetime(2022, 6, 2, 21, 40), 150.0, 'W', 1, 1)\n",
      "(datetime.datetime(2022, 6, 2, 21, 50), 144.0, 'W', 1, 1)\n",
      "(datetime.datetime(2022, 6, 2, 22, 0), 90.0, 'W', 1, 1)\n",
      "(datetime.datetime(2022, 6, 2, 22, 10), 90.0, 'W', 1, 1)\n",
      "(datetime.datetime(2022, 6, 2, 22, 20), 90.0, 'W', 1, 1)\n",
      "(datetime.datetime(2022, 6, 2, 22, 30), 90.0, 'W', 1, 1)\n",
      "(datetime.datetime(2022, 6, 2, 22, 40), 84.0, 'W', 1, 1)\n",
      "(datetime.datetime(2022, 6, 2, 22, 50), 150.0, 'W', 1, 1)\n",
      "(datetime.datetime(2022, 6, 2, 23, 0), 156.0, 'W', 1, 1)\n",
      "(datetime.datetime(2022, 6, 2, 23, 10), 150.0, 'W', 1, 1)\n",
      "(datetime.datetime(2022, 6, 2, 23, 20), 156.0, 'W', 1, 1)\n",
      "(datetime.datetime(2022, 6, 2, 23, 30), 120.0, 'W', 1, 1)\n",
      "(datetime.datetime(2022, 6, 2, 23, 40), 90.0, 'W', 1, 1)\n",
      "(datetime.datetime(2022, 6, 2, 23, 50), 96.0, 'W', 1, 1)\n",
      "(datetime.datetime(2022, 6, 3, 0, 0), 96.0, 'W', 1, 1)\n"
     ]
    }
   ],
   "source": [
    "for r in inject.query(\"SELECT * from measures\"):\n",
    "    print(r)"
   ]
  },
  {
   "cell_type": "code",
   "execution_count": null,
   "metadata": {},
   "outputs": [],
   "source": []
  }
 ],
 "metadata": {
  "interpreter": {
   "hash": "e26a7f80fb8af52abc3a8b0843796f14840f09c245dda76ed24806655729c79b"
  },
  "kernelspec": {
   "display_name": "Python 3.9.12 ('base')",
   "language": "python",
   "name": "python3"
  },
  "language_info": {
   "codemirror_mode": {
    "name": "ipython",
    "version": 3
   },
   "file_extension": ".py",
   "mimetype": "text/x-python",
   "name": "python",
   "nbconvert_exporter": "python",
   "pygments_lexer": "ipython3",
   "version": "3.9.12"
  },
  "orig_nbformat": 4
 },
 "nbformat": 4,
 "nbformat_minor": 2
}
